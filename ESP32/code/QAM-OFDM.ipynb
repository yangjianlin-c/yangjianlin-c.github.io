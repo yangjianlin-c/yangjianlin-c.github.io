{
 "cells": [
  {
   "cell_type": "code",
   "execution_count": null,
   "metadata": {},
   "outputs": [],
   "source": [
    "\n",
    "\n",
    "#Define parameters.\n",
    "\n",
    "M = 16;                     % Size of signal constellation\n",
    "k = log2(M);                % Number of bits per symbol\n",
    "n = 30000;                  % Number of bits to process\n",
    "numSamplesPerSymbol = 1;    % Oversampling factor\n",
    "#Create a binary data stream as a column vector.\n",
    "\n",
    "rng default                 % Use default random number generator\n",
    "dataIn = randi([0 1],n,1);  % Generate vector of binary data\n",
    "Plot the first 40 bits in a stem plot.\n",
    "\n",
    "stem(dataIn(1:40),'filled');\n",
    "title('Random Bits');\n",
    "xlabel('Bit Index');\n",
    "ylabel('Binary Value');"
   ]
  },
  {
   "cell_type": "code",
   "execution_count": null,
   "metadata": {},
   "outputs": [],
   "source": [
    "import numpy as np\n",
    "import matplotlib.pyplot as plt\n",
    "from scipy import signal\n",
    "plt.style.use('ggplot')\n",
    "fig = plt.figure(figsize=(10, 4))\n",
    "\n",
    "f=1\n",
    "t=np.linspace (0, 1, num=20, endpoint=False)\n",
    "dt=t[1]-t[0]\n",
    "x=np.sin(2*np.pi*f*t)\n",
    "x=0.5*signal.square(2 * np.pi *f* t)+0.5\n",
    "plt.stem(t,x)\n",
    "plt.xlabel('时间 (s)')\n",
    "plt.ylabel('幅值')\n",
    "plt.axis('tight')\n",
    "\n",
    "#Peak Power\n",
    "Peak =np.max(np.abs(x)**2)\n",
    "Peak =np.max(x*x)\n",
    "print(\"peak power is:\",Peak)\n",
    "\n",
    "# Mean Power\n",
    "RMS = np.sum(np.abs(x)**2)/x.size\n",
    "RMS = np.dot(x,x)/x.size\n",
    "\n",
    "print(\"mean power is:\", meanSquareValue)\n",
    "print(\"PAPR is:\", Peak/RMS)\n",
    "\n",
    "plt.show()"
   ]
  },
  {
   "cell_type": "code",
   "execution_count": 5,
   "metadata": {},
   "outputs": [
    {
     "data": {
      "image/png": "[encoded data removed]",
      "text/plain": [
       "<matplotlib.figure.Figure at 0x10fc69f0>"
      ]
     },
     "metadata": {},
     "output_type": "display_data"
    },
    {
     "name": "stdout",
     "output_type": "stream",
     "text": [
      "peak power is: 20.0\n",
      "mean power is: (-2.22044604925e-17-1.66533453694e-17j)\n",
      "PAPR is: (-5.76460752303e+17+4.32345564228e+17j)\n"
     ]
    }
   ],
   "source": [
    "import numpy as np\n",
    "import matplotlib.pyplot as plt\n",
    "from scipy import signal\n",
    "plt.style.use('ggplot')\n",
    "fig = plt.figure(figsize=(10, 4))\n",
    "\n",
    "f=1\n",
    "t=np.linspace (0, 1, num=20, endpoint=False)\n",
    "dt=t[1]-t[0]\n",
    "#x=np.sin(2*np.pi*f*t)\n",
    "#x=0.5*signal.square(2 * np.pi *f* t)+0.5\n",
    "x=np.exp(2j*np.pi*f*t)\n",
    "\n",
    "x_r=x.real\n",
    "x_i=x.imag\n",
    "plt.stem(t,x_r,'r', markerfmt='ro',label=\"实部\")\n",
    "plt.stem(t,x_i, 'g', markerfmt='g*', label=\"虚部\")\n",
    "plt.xlabel('时间 (s)')\n",
    "plt.ylabel('幅值')\n",
    "plt.axis('tight')\n",
    "plt.legend()\n",
    "plt.show()\n",
    "\n",
    "#Peak Power\n",
    "Peak =np.max(np.abs(x)**2)\n",
    "Peak =np.max(np.abs(np.dot(x,np.conj(x))))\n",
    "print(\"peak power is:\",Peak)\n",
    "\n",
    "# Mean Power\n",
    "#RMS = np.sum(np.abs(x)**2)/x.size\n",
    "RMS = np.dot(x,x)/x.size\n",
    "print(\"mean power is:\", RMS)\n",
    "\n",
    "PARP=Peak/RMS\n",
    "print(\"PAPR is:\", PARP)\n"
   ]
  },
  {
   "cell_type": "code",
   "execution_count": null,
   "metadata": {},
   "outputs": [],
   "source": []
  }
 ],
 "metadata": {
  "kernelspec": {
   "display_name": "Python 3",
   "language": "python",
   "name": "python3"
  },
  "language_info": {
   "codemirror_mode": {
    "name": "ipython",
    "version": 3
   },
   "file_extension": ".py",
   "mimetype": "text/x-python",
   "name": "python",
   "nbconvert_exporter": "python",
   "pygments_lexer": "ipython3",
   "version": "3.5.2"
  }
 },
 "nbformat": 4,
 "nbformat_minor": 2
}
